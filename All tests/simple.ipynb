{
 "cells": [
  {
   "cell_type": "code",
   "execution_count": 1,
   "metadata": {},
   "outputs": [
    {
     "name": "stdout",
     "output_type": "stream",
     "text": [
      "Hello\n"
     ]
    }
   ],
   "source": [
    "print(\"Hello\")"
   ]
  },
  {
   "cell_type": "code",
   "execution_count": 2,
   "metadata": {},
   "outputs": [
    {
     "name": "stdout",
     "output_type": "stream",
     "text": [
      "0.6363636363636364\n"
     ]
    }
   ],
   "source": [
    "print(7/11)"
   ]
  },
  {
   "cell_type": "code",
   "execution_count": 3,
   "metadata": {},
   "outputs": [
    {
     "name": "stdout",
     "output_type": "stream",
     "text": [
      "0.6363636363636364\n",
      "0.636\n",
      "0.636\n",
      "The first 3 numbers are one, two and three.\n",
      "Backwards they are three, two and one.\n",
      "The first 3 numbers are one, 2 and 3.0.\n",
      "The first 3 numbers are one    , two     and three  .\n",
      "The first 3 numbers are one , two  and three.\n"
     ]
    }
   ],
   "source": [
    "print( 7/11 )\n",
    "\n",
    "\n",
    "print( round( 7/11, 3 ) )\n",
    "\n",
    "\n",
    "print( \"{:.3f}\".format( 7/11 ) )\n",
    "\n",
    "\n",
    "print( \"The first 3 numbers are {}, {} and {}.\".format( \"one\", \"two\", \"three\" ) )\n",
    "\n",
    "\n",
    "print( \"Backwards they are {2}, {1} and {0}.\".format( \"one\", \"two\", \"three\" ) )\n",
    "\n",
    "\n",
    "print( \"The first 3 numbers are {}, {} and {}.\".format( \"one\", 2, 3.0 ) )\n",
    "\n",
    "\n",
    "print( \"The first 3 numbers are {:7}, {:7} and {:7}.\".format( \"one\", \"two\", \"three\" ) )\n",
    "\n",
    "print( \"The first 3 numbers are {:4}, {:4} and {:4}.\".format( \"one\", \"two\", \"three\" ) )\n"
   ]
  },
  {
   "cell_type": "code",
   "execution_count": 4,
   "metadata": {},
   "outputs": [
    {
     "name": "stdout",
     "output_type": "stream",
     "text": [
      "The first 3 numbers are one , two  and three.\n",
      "The first 3 numbers are     one,   two   and three  .\n",
      "1 divided by 2 is 0.5\n",
      "1 divided by 2 is 0.500000\n",
      "1.000000 divided by 2.000000 is 0.500000\n",
      "    1 divided by     2 is 0.500000\n",
      "1.000000 divided by 2.000000 is 0.500000\n",
      "1.00 divided by 2.00 is 0.50\n",
      "    1 times  3.75 is  3.75\n",
      "    2 times  3.75 is  7.50\n",
      "    3 times  3.75 is 11.25\n",
      "    4 times  3.75 is 15.00\n",
      "    5 times  3.75 is 18.75\n"
     ]
    }
   ],
   "source": [
    "print( \"The first 3 numbers are {:4}, {:4} and {:4}.\".format( \"one\", \"two\", \"three\" ) )\n",
    "\n",
    "\n",
    "\n",
    "\n",
    "print( \"The first 3 numbers are {:>7}, {:^7} and {:<7}.\".format( \"one\", \"two\", \"three\" ) )\n",
    "\n",
    "\n",
    "\n",
    "\n",
    "print( \"{} divided by {} is {}\".format( 1, 2, 1/2 ) )\n",
    "print( \"{:d} divided by {:d} is {:f}\".format( 1, 2, 1/2 ) )\n",
    "print( \"{:f} divided by {:f} is {:f}\".format( 1, 2, 1/2 ) )\n",
    "\n",
    "\n",
    "\n",
    "\n",
    "print( \"{:5d} divided by {:5d} is {:5f}\".format( 1, 2, 1/2 ) )\n",
    "print( \"{:<5f} divided by {:^5f} is {:>5f}\".format( 1, 2, 1/2 ) )\n",
    "\n",
    "\n",
    "print( \"{:.2f} divided by {:.2f} is {:.2f}\".format( 1, 2, 1/2 ) )\n",
    "\n",
    "\n",
    "s = \"{:>5d} times {:>5.2f} is {:>5.2f}\"\n",
    "print( s.format( 1, 3.75, 1 * 3.75 ) )\n",
    "print( s.format( 2, 3.75, 2 * 3.75 ) )\n",
    "print( s.format( 3, 3.75, 3 * 3.75 ) )\n",
    "print( s.format( 4, 3.75, 4 * 3.75 ) )\n",
    "print( s.format( 5, 3.75, 5 * 3.75 ) )\n"
   ]
  },
  {
   "cell_type": "code",
   "execution_count": 13,
   "metadata": {},
   "outputs": [
    {
     "name": "stdout",
     "output_type": "stream",
     "text": [
      "A random number between 1 and 10 is 7\n",
      "Another is 5\n",
      "3 random numbers are: 0.8444218515250481 0.7579544029403025 0.420571580830845\n",
      "The same 3 numbers are: 0.8444218515250481 0.7579544029403025 0.420571580830845\n"
     ]
    }
   ],
   "source": [
    "from random import random , randint , seed\n",
    "seed()\n",
    "print( \"A random number between 1 and 10 is\", randint( 1, 10 ) )\n",
    "print( \"Another is\", randint( 4, 6 ) )\n",
    "seed( 0 )\n",
    "print( \"3 random numbers are:\", random(), random(), random() )\n",
    "seed( 0 )\n",
    "print( \"The same 3 numbers are:\", random(), random(), random() )\n"
   ]
  },
  {
   "cell_type": "code",
   "execution_count": null,
   "metadata": {},
   "outputs": [],
   "source": []
  }
 ],
 "metadata": {
  "kernelspec": {
   "display_name": "Python 3",
   "language": "python",
   "name": "python3"
  },
  "language_info": {
   "codemirror_mode": {
    "name": "ipython",
    "version": 3
   },
   "file_extension": ".py",
   "mimetype": "text/x-python",
   "name": "python",
   "nbconvert_exporter": "python",
   "pygments_lexer": "ipython3",
   "version": "3.12.6"
  }
 },
 "nbformat": 4,
 "nbformat_minor": 2
}
